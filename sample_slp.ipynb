{
 "cells": [
  {
   "cell_type": "code",
   "execution_count": 1,
   "id": "722bec91",
   "metadata": {},
   "outputs": [],
   "source": [
    "import numpy as np"
   ]
  },
  {
   "cell_type": "code",
   "execution_count": 2,
   "id": "073659e0",
   "metadata": {},
   "outputs": [],
   "source": [
    "def forwardPass(inputs, weight, bias):\n",
    "    w_sum = np.dot(inputs, weight) + bias\n",
    "\n",
    "    # Linear Activation f(x) = x\n",
    "    act = w_sum\n",
    "\n",
    "    return act"
   ]
  },
  {
   "cell_type": "code",
   "execution_count": 3,
   "id": "93b40143",
   "metadata": {},
   "outputs": [],
   "source": [
    "# Pre-Trained Weights & Biases after Training\n",
    "W = np.array([[2.99999928]])\n",
    "b = np.array([1.99999976])"
   ]
  },
  {
   "cell_type": "code",
   "execution_count": 4,
   "id": "f2dd2aef",
   "metadata": {},
   "outputs": [],
   "source": [
    "# Initialize Input Data\n",
    "inputs = np.array([[7], [8], [9], [10]])"
   ]
  },
  {
   "cell_type": "code",
   "execution_count": 5,
   "id": "43b4fce9",
   "metadata": {},
   "outputs": [],
   "source": [
    "# Output of Output Layer\n",
    "o_out = forwardPass(inputs, W, b)"
   ]
  },
  {
   "cell_type": "code",
   "execution_count": 6,
   "id": "3b983d4c",
   "metadata": {},
   "outputs": [
    {
     "name": "stdout",
     "output_type": "stream",
     "text": [
      "Output Layer Output (Linear)\n",
      "================================\n",
      "[[22.99999472]\n",
      " [25.999994  ]\n",
      " [28.99999328]\n",
      " [31.99999256]] \n",
      "\n"
     ]
    }
   ],
   "source": [
    "print('Output Layer Output (Linear)')\n",
    "print('================================')\n",
    "print(o_out, \"\\n\")"
   ]
  },
  {
   "cell_type": "code",
   "execution_count": null,
   "id": "6a17bed3",
   "metadata": {},
   "outputs": [],
   "source": []
  }
 ],
 "metadata": {
  "kernelspec": {
   "display_name": "Python 3",
   "language": "python",
   "name": "python3"
  },
  "language_info": {
   "codemirror_mode": {
    "name": "ipython",
    "version": 3
   },
   "file_extension": ".py",
   "mimetype": "text/x-python",
   "name": "python",
   "nbconvert_exporter": "python",
   "pygments_lexer": "ipython3",
   "version": "3.8.8"
  }
 },
 "nbformat": 4,
 "nbformat_minor": 5
}
